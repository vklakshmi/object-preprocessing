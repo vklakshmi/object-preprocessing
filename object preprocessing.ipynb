{
 "cells": [
  {
   "cell_type": "code",
   "execution_count": 5,
   "metadata": {},
   "outputs": [],
   "source": [
    "import pandas as pd"
   ]
  },
  {
   "cell_type": "code",
   "execution_count": 6,
   "metadata": {},
   "outputs": [
    {
     "name": "stderr",
     "output_type": "stream",
     "text": [
      "C:\\Users\\veera\\Anaconda2\\lib\\site-packages\\IPython\\core\\interactiveshell.py:2714: DtypeWarning: Columns (11) have mixed types. Specify dtype option on import or set low_memory=False.\n",
      "  interactivity=interactivity, compiler=compiler, result=result)\n"
     ]
    }
   ],
   "source": [
    "data = pd.read_csv('F:\\kutty\\severeinjury.csv',encoding='cp1252')"
   ]
  },
  {
   "cell_type": "code",
   "execution_count": 7,
   "metadata": {},
   "outputs": [],
   "source": [
    "\n",
    "import nltk"
   ]
  },
  {
   "cell_type": "code",
   "execution_count": 8,
   "metadata": {},
   "outputs": [],
   "source": [
    "from nltk.tokenize import WhitespaceTokenizer"
   ]
  },
  {
   "cell_type": "code",
   "execution_count": 9,
   "metadata": {},
   "outputs": [
    {
     "data": {
      "text/plain": [
       "0        Three correctional facility guards were escort...\n",
       "1        Employee in the Machine Shop received second d...\n",
       "2        A truck driver fell approximately 4 feet while...\n",
       "3        An employee's leg was pinned between a truck a...\n",
       "4        An employee working on the Line 6 Auto-Beller ...\n",
       "5        An employee was hospitalized after slipping an...\n",
       "6        Employee working the flipping machine at the c...\n",
       "7        Employee sustained burns during line tie-in op...\n",
       "8        One employee was hospitalized after being stru...\n",
       "9        An associate was using a knife to open a bag o...\n",
       "10       An employee was struck by an excavator on 01/0...\n",
       "11       On or about 1/2/15 at 9:10 p.m., an employee w...\n",
       "12       An employee stumbled and fell to the ground on...\n",
       "13       Two employees in a scissor lift were wrecking ...\n",
       "14       Employee amputated tip of finger when his fing...\n",
       "15       An employee suffered a right index finger ampu...\n",
       "16       An employee was injured by a customer's automo...\n",
       "17       Employee suffered the amputation of three fing...\n",
       "18       An employee who was using a cordless circular ...\n",
       "19       On Friday, January 2, 2015, at 10:30 p.m., a c...\n",
       "20       The employee was coming down a ladder after pl...\n",
       "21       Employee tripped on a paver and fractured her ...\n",
       "22       Employees use a draw machine to extrude wire. ...\n",
       "23       While in the process of unloading pre-tied mat...\n",
       "24       Employee lost his nail, skin, and flesh from t...\n",
       "25       An employee suffered a trans-phalangeal amputa...\n",
       "26       Employee was installing a new cable on a home ...\n",
       "27       Worker caught a hand in a running conveyor whi...\n",
       "28       An employee was hospitalized after being hit b...\n",
       "29       An employee was assaulted by a patient (chokin...\n",
       "                               ...                        \n",
       "54988    An employee was moving a part from the metal p...\n",
       "54989    An employee was in an aerial lift, preparing t...\n",
       "54990    An employee fell off the stool they were sitti...\n",
       "54991    An employee fell from the second-floor level t...\n",
       "54992    A postal carrier was leaving his postal vehicl...\n",
       "54993    On March 31, 2020, an employee was standing on...\n",
       "54994    An employee was moving a chair from the bed of...\n",
       "54995    An employee was loosening the bolts in a 1,500...\n",
       "54996    An employee was setting up a machine. The empl...\n",
       "54997    An employee was moving a movable rack containi...\n",
       "54998    On March 31, 2020, an employee was cutting she...\n",
       "54999    An employee was cleaning a slitter machine whe...\n",
       "55000    An employee was using a pallet jack to pull a ...\n",
       "55001    An employee was attempting to reconnect a hose...\n",
       "55002    An employee was driving a forklift when it str...\n",
       "55003    An employee was retrieving food from a walk-in...\n",
       "55004    An employee was standing on a rolling safety l...\n",
       "55005    An employee was servicing a conveyor belt when...\n",
       "55006    On March 31, 2020, at approximately 7:48 PM, a...\n",
       "55007    An employee was changing out a broken cable. T...\n",
       "55008    An employee climbed a walking deck to gain acc...\n",
       "55009    An employee was splitting bricks with a hammer...\n",
       "55010    An employee was standing on a 2-step step stoo...\n",
       "55011    Two electricians/journeyman mechanics were doi...\n",
       "55012    An employee was replacing a wheel on a kiln ca...\n",
       "55013    An employee was trying to tighten slack in a c...\n",
       "55014    While replacing electric insulators, a lineman...\n",
       "55015    A forklift driver was loading a truck at a doc...\n",
       "55016    An employee was repairing an HVAC unit on the ...\n",
       "55017    An employee was notching a tree when his chain...\n",
       "Name: Final Narrative, Length: 55018, dtype: object"
      ]
     },
     "execution_count": 9,
     "metadata": {},
     "output_type": "execute_result"
    }
   ],
   "source": [
    "data[\"Final Narrative\"]"
   ]
  },
  {
   "cell_type": "code",
   "execution_count": 10,
   "metadata": {},
   "outputs": [],
   "source": [
    "def identify_tokens(row):\n",
    "    summary_title = row[\"Final Narrative\"]\n",
    "    tokens = nltk.word_tokenize(summary_title)\n",
    "    token_words = [ w for w in tokens if w.isalpha()]\n",
    "    return token_words"
   ]
  },
  {
   "cell_type": "code",
   "execution_count": 11,
   "metadata": {},
   "outputs": [],
   "source": [
    "data['words']= data.apply(identify_tokens,axis=1)"
   ]
  },
  {
   "cell_type": "code",
   "execution_count": 12,
   "metadata": {},
   "outputs": [
    {
     "data": {
      "text/plain": [
       "0        [Three, correctional, facility, guards, were, ...\n",
       "1        [Employee, in, the, Machine, Shop, received, s...\n",
       "2        [A, truck, driver, fell, approximately, feet, ...\n",
       "3        [An, employee, leg, was, pinned, between, a, t...\n",
       "4        [An, employee, working, on, the, Line, reached...\n",
       "5        [An, employee, was, hospitalized, after, slipp...\n",
       "6        [Employee, working, the, flipping, machine, at...\n",
       "7        [Employee, sustained, burns, during, line, ope...\n",
       "8        [One, employee, was, hospitalized, after, bein...\n",
       "9        [An, associate, was, using, a, knife, to, open...\n",
       "10       [An, employee, was, struck, by, an, excavator,...\n",
       "11       [On, or, about, at, an, employee, was, prepari...\n",
       "12       [An, employee, stumbled, and, fell, to, the, g...\n",
       "13       [Two, employees, in, a, scissor, lift, were, w...\n",
       "14       [Employee, amputated, tip, of, finger, when, h...\n",
       "15       [An, employee, suffered, a, right, index, fing...\n",
       "16       [An, employee, was, injured, by, a, customer, ...\n",
       "17       [Employee, suffered, the, amputation, of, thre...\n",
       "18       [An, employee, who, was, using, a, cordless, c...\n",
       "19       [On, Friday, January, at, a, crew, of, employe...\n",
       "20       [The, employee, was, coming, down, a, ladder, ...\n",
       "21       [Employee, tripped, on, a, paver, and, fractur...\n",
       "22       [Employees, use, a, draw, machine, to, extrude...\n",
       "23       [While, in, the, process, of, unloading, mats,...\n",
       "24       [Employee, lost, his, nail, skin, and, flesh, ...\n",
       "25       [An, employee, suffered, a, amputation, of, th...\n",
       "26       [Employee, was, installing, a, new, cable, on,...\n",
       "27       [Worker, caught, a, hand, in, a, running, conv...\n",
       "28       [An, employee, was, hospitalized, after, being...\n",
       "29       [An, employee, was, assaulted, by, a, patient,...\n",
       "                               ...                        \n",
       "54988    [An, employee, was, moving, a, part, from, the...\n",
       "54989    [An, employee, was, in, an, aerial, lift, prep...\n",
       "54990    [An, employee, fell, off, the, stool, they, we...\n",
       "54991    [An, employee, fell, from, the, level, to, gro...\n",
       "54992    [A, postal, carrier, was, leaving, his, postal...\n",
       "54993    [On, March, an, employee, was, standing, on, t...\n",
       "54994    [An, employee, was, moving, a, chair, from, th...\n",
       "54995    [An, employee, was, loosening, the, bolts, in,...\n",
       "54996    [An, employee, was, setting, up, a, machine, T...\n",
       "54997    [An, employee, was, moving, a, movable, rack, ...\n",
       "54998    [On, March, an, employee, was, cutting, sheets...\n",
       "54999    [An, employee, was, cleaning, a, slitter, mach...\n",
       "55000    [An, employee, was, using, a, pallet, jack, to...\n",
       "55001    [An, employee, was, attempting, to, reconnect,...\n",
       "55002    [An, employee, was, driving, a, forklift, when...\n",
       "55003    [An, employee, was, retrieving, food, from, a,...\n",
       "55004    [An, employee, was, standing, on, a, rolling, ...\n",
       "55005    [An, employee, was, servicing, a, conveyor, be...\n",
       "55006    [On, March, at, approximately, PM, an, employe...\n",
       "55007    [An, employee, was, changing, out, a, broken, ...\n",
       "55008    [An, employee, climbed, a, walking, deck, to, ...\n",
       "55009    [An, employee, was, splitting, bricks, with, a...\n",
       "55010    [An, employee, was, standing, on, a, step, sto...\n",
       "55011    [Two, mechanics, were, doing, preventative, ma...\n",
       "55012    [An, employee, was, replacing, a, wheel, on, a...\n",
       "55013    [An, employee, was, trying, to, tighten, slack...\n",
       "55014    [While, replacing, electric, insulators, a, li...\n",
       "55015    [A, forklift, driver, was, loading, a, truck, ...\n",
       "55016    [An, employee, was, repairing, an, HVAC, unit,...\n",
       "55017    [An, employee, was, notching, a, tree, when, h...\n",
       "Name: words, Length: 55018, dtype: object"
      ]
     },
     "execution_count": 12,
     "metadata": {},
     "output_type": "execute_result"
    }
   ],
   "source": [
    "data['words']"
   ]
  },
  {
   "cell_type": "code",
   "execution_count": 13,
   "metadata": {},
   "outputs": [],
   "source": [
    "\n",
    "from nltk.corpus import stopwords\n",
    "stops = set(stopwords.words(\"english\"))                  \n",
    "\n",
    "def remove_stops(row):\n",
    "    my_list = row['words']\n",
    "    meaningful_words = [w for w in my_list if not w in stops]\n",
    "    return (meaningful_words)\n",
    "\n",
    "data['stem_meaningful'] = data.apply(remove_stops, axis=1)"
   ]
  },
  {
   "cell_type": "code",
   "execution_count": 14,
   "metadata": {},
   "outputs": [
    {
     "data": {
      "text/plain": [
       "0        [Three, correctional, facility, guards, escort...\n",
       "1        [Employee, Machine, Shop, received, second, de...\n",
       "2        [A, truck, driver, fell, approximately, feet, ...\n",
       "3        [An, employee, leg, pinned, truck, powered, pa...\n",
       "4        [An, employee, working, Line, reached, machine...\n",
       "5        [An, employee, hospitalized, slipping, falling...\n",
       "6        [Employee, working, flipping, machine, casting...\n",
       "7        [Employee, sustained, burns, line, operations,...\n",
       "8        [One, employee, hospitalized, struck, tire, ai...\n",
       "9        [An, associate, using, knife, open, bag, chili...\n",
       "10       [An, employee, struck, excavator, hospitalized...\n",
       "11       [On, employee, preparing, troubleshoot, hambur...\n",
       "12       [An, employee, stumbled, fell, ground, left, s...\n",
       "13       [Two, employees, scissor, lift, wrecking, form...\n",
       "14       [Employee, amputated, tip, finger, finger, got...\n",
       "15       [An, employee, suffered, right, index, finger,...\n",
       "16       [An, employee, injured, customer, automobile, ...\n",
       "17       [Employee, suffered, amputation, three, finger...\n",
       "18       [An, employee, using, cordless, circular, saw,...\n",
       "19       [On, Friday, January, crew, employees, changin...\n",
       "20       [The, employee, coming, ladder, placing, media...\n",
       "21       [Employee, tripped, paver, fractured, wrist, r...\n",
       "22       [Employees, use, draw, machine, extrude, wire,...\n",
       "23       [While, process, unloading, mats, rebar, one, ...\n",
       "24       [Employee, lost, nail, skin, flesh, tip, right...\n",
       "25       [An, employee, suffered, amputation, middle, f...\n",
       "26       [Employee, installing, new, cable, home, worki...\n",
       "27       [Worker, caught, hand, running, conveyor, clea...\n",
       "28       [An, employee, hospitalized, hit, forklift, un...\n",
       "29       [An, employee, assaulted, patient, choking, re...\n",
       "                               ...                        \n",
       "54988    [An, employee, moving, part, metal, pallet, Th...\n",
       "54989    [An, employee, aerial, lift, preparing, remove...\n",
       "54990    [An, employee, fell, stool, sitting, landed, f...\n",
       "54991    [An, employee, fell, level, ground, level, ins...\n",
       "54992    [A, postal, carrier, leaving, postal, vehicle,...\n",
       "54993    [On, March, employee, standing, ground, using,...\n",
       "54994    [An, employee, moving, chair, bed, pickup, tru...\n",
       "54995    [An, employee, loosening, bolts, pound, sign, ...\n",
       "54996    [An, employee, setting, machine, The, employee...\n",
       "54997    [An, employee, moving, movable, rack, containi...\n",
       "54998    [On, March, employee, cutting, sheets, plastic...\n",
       "54999    [An, employee, cleaning, slitter, machine, emp...\n",
       "55000    [An, employee, using, pallet, jack, pull, pall...\n",
       "55001    [An, employee, attempting, reconnect, hose, th...\n",
       "55002    [An, employee, driving, forklift, struck, anot...\n",
       "55003    [An, employee, retrieving, food, storage, cool...\n",
       "55004    [An, employee, standing, rolling, safety, test...\n",
       "55005    [An, employee, servicing, conveyor, belt, chai...\n",
       "55006    [On, March, approximately, PM, employee, unloa...\n",
       "55007    [An, employee, changing, broken, cable, The, c...\n",
       "55008    [An, employee, climbed, walking, deck, gain, a...\n",
       "55009    [An, employee, splitting, bricks, hammer, The,...\n",
       "55010    [An, employee, standing, step, stool, remove, ...\n",
       "55011    [Two, mechanics, preventative, maintenance, st...\n",
       "55012    [An, employee, replacing, wheel, kiln, cart, H...\n",
       "55013    [An, employee, trying, tighten, slack, conveyo...\n",
       "55014    [While, replacing, electric, insulators, linem...\n",
       "55015    [A, forklift, driver, loading, truck, dock, do...\n",
       "55016    [An, employee, repairing, HVAC, unit, roof, sc...\n",
       "55017    [An, employee, notching, tree, chainsaw, kicke...\n",
       "Name: stem_meaningful, Length: 55018, dtype: object"
      ]
     },
     "execution_count": 14,
     "metadata": {},
     "output_type": "execute_result"
    }
   ],
   "source": [
    "data['stem_meaningful']"
   ]
  },
  {
   "cell_type": "code",
   "execution_count": 3,
   "metadata": {},
   "outputs": [],
   "source": [
    "from nltk import pos_tag"
   ]
  },
  {
   "cell_type": "code",
   "execution_count": 15,
   "metadata": {},
   "outputs": [
    {
     "name": "stderr",
     "output_type": "stream",
     "text": [
      "[nltk_data] Downloading package averaged_perceptron_tagger to\n",
      "[nltk_data]     C:\\Users\\veera\\AppData\\Roaming\\nltk_data...\n",
      "[nltk_data]   Package averaged_perceptron_tagger is already up-to-\n",
      "[nltk_data]       date!\n"
     ]
    },
    {
     "data": {
      "text/plain": [
       "True"
      ]
     },
     "execution_count": 15,
     "metadata": {},
     "output_type": "execute_result"
    }
   ],
   "source": [
    "nltk.download('averaged_perceptron_tagger')\n"
   ]
  },
  {
   "cell_type": "code",
   "execution_count": 16,
   "metadata": {},
   "outputs": [],
   "source": [
    "data['words'] = [\"  \".join(review) for review in data['words'].values]"
   ]
  },
  {
   "cell_type": "code",
   "execution_count": 17,
   "metadata": {},
   "outputs": [
    {
     "data": {
      "text/plain": [
       "0        Three  correctional  facility  guards  were  e...\n",
       "1        Employee  in  the  Machine  Shop  received  se...\n",
       "2        A  truck  driver  fell  approximately  feet  w...\n",
       "3        An  employee  leg  was  pinned  between  a  tr...\n",
       "4        An  employee  working  on  the  Line  reached ...\n",
       "5        An  employee  was  hospitalized  after  slippi...\n",
       "6        Employee  working  the  flipping  machine  at ...\n",
       "7        Employee  sustained  burns  during  line  oper...\n",
       "8        One  employee  was  hospitalized  after  being...\n",
       "9        An  associate  was  using  a  knife  to  open ...\n",
       "10       An  employee  was  struck  by  an  excavator  ...\n",
       "11       On  or  about  at  an  employee  was  preparin...\n",
       "12       An  employee  stumbled  and  fell  to  the  gr...\n",
       "13       Two  employees  in  a  scissor  lift  were  wr...\n",
       "14       Employee  amputated  tip  of  finger  when  hi...\n",
       "15       An  employee  suffered  a  right  index  finge...\n",
       "16       An  employee  was  injured  by  a  customer  a...\n",
       "17       Employee  suffered  the  amputation  of  three...\n",
       "18       An  employee  who  was  using  a  cordless  ci...\n",
       "19       On  Friday  January  at  a  crew  of  employee...\n",
       "20       The  employee  was  coming  down  a  ladder  a...\n",
       "21       Employee  tripped  on  a  paver  and  fracture...\n",
       "22       Employees  use  a  draw  machine  to  extrude ...\n",
       "23       While  in  the  process  of  unloading  mats  ...\n",
       "24       Employee  lost  his  nail  skin  and  flesh  f...\n",
       "25       An  employee  suffered  a  amputation  of  the...\n",
       "26       Employee  was  installing  a  new  cable  on  ...\n",
       "27       Worker  caught  a  hand  in  a  running  conve...\n",
       "28       An  employee  was  hospitalized  after  being ...\n",
       "29       An  employee  was  assaulted  by  a  patient  ...\n",
       "                               ...                        \n",
       "54988    An  employee  was  moving  a  part  from  the ...\n",
       "54989    An  employee  was  in  an  aerial  lift  prepa...\n",
       "54990    An  employee  fell  off  the  stool  they  wer...\n",
       "54991    An  employee  fell  from  the  level  to  grou...\n",
       "54992    A  postal  carrier  was  leaving  his  postal ...\n",
       "54993    On  March  an  employee  was  standing  on  th...\n",
       "54994    An  employee  was  moving  a  chair  from  the...\n",
       "54995    An  employee  was  loosening  the  bolts  in  ...\n",
       "54996    An  employee  was  setting  up  a  machine  Th...\n",
       "54997    An  employee  was  moving  a  movable  rack  c...\n",
       "54998    On  March  an  employee  was  cutting  sheets ...\n",
       "54999    An  employee  was  cleaning  a  slitter  machi...\n",
       "55000    An  employee  was  using  a  pallet  jack  to ...\n",
       "55001    An  employee  was  attempting  to  reconnect  ...\n",
       "55002    An  employee  was  driving  a  forklift  when ...\n",
       "55003    An  employee  was  retrieving  food  from  a  ...\n",
       "55004    An  employee  was  standing  on  a  rolling  s...\n",
       "55005    An  employee  was  servicing  a  conveyor  bel...\n",
       "55006    On  March  at  approximately  PM  an  employee...\n",
       "55007    An  employee  was  changing  out  a  broken  c...\n",
       "55008    An  employee  climbed  a  walking  deck  to  g...\n",
       "55009    An  employee  was  splitting  bricks  with  a ...\n",
       "55010    An  employee  was  standing  on  a  step  stoo...\n",
       "55011    Two  mechanics  were  doing  preventative  mai...\n",
       "55012    An  employee  was  replacing  a  wheel  on  a ...\n",
       "55013    An  employee  was  trying  to  tighten  slack ...\n",
       "55014    While  replacing  electric  insulators  a  lin...\n",
       "55015    A  forklift  driver  was  loading  a  truck  a...\n",
       "55016    An  employee  was  repairing  an  HVAC  unit  ...\n",
       "55017    An  employee  was  notching  a  tree  when  hi...\n",
       "Name: words, Length: 55018, dtype: object"
      ]
     },
     "execution_count": 17,
     "metadata": {},
     "output_type": "execute_result"
    }
   ],
   "source": [
    "data['words']"
   ]
  },
  {
   "cell_type": "code",
   "execution_count": 20,
   "metadata": {},
   "outputs": [],
   "source": [
    "from nltk import pos_tag_sents,word_tokenize"
   ]
  },
  {
   "cell_type": "code",
   "execution_count": 98,
   "metadata": {},
   "outputs": [],
   "source": [
    "df = pd.DataFrame(columns=['pos'])\n"
   ]
  },
  {
   "cell_type": "code",
   "execution_count": 99,
   "metadata": {},
   "outputs": [],
   "source": [
    "df['pos'] = pos_tag_sents(data['Final Narrative'].apply(word_tokenize))"
   ]
  },
  {
   "cell_type": "code",
   "execution_count": 104,
   "metadata": {},
   "outputs": [
    {
     "data": {
      "text/plain": [
       "0        [(Three, CD), (correctional, JJ), (facility, N...\n",
       "1        [(Employee, NN), (in, IN), (the, DT), (Machine...\n",
       "2        [(A, DT), (truck, NN), (driver, NN), (fell, VB...\n",
       "3        [(An, DT), (employee, NN), ('s, POS), (leg, NN...\n",
       "4        [(An, DT), (employee, NN), (working, VBG), (on...\n",
       "5        [(An, DT), (employee, NN), (was, VBD), (hospit...\n",
       "6        [(Employee, NNP), (working, VBG), (the, DT), (...\n",
       "7        [(Employee, NN), (sustained, VBD), (burns, NNS...\n",
       "8        [(One, CD), (employee, NN), (was, VBD), (hospi...\n",
       "9        [(An, DT), (associate, NN), (was, VBD), (using...\n",
       "10       [(An, DT), (employee, NN), (was, VBD), (struck...\n",
       "11       [(On, IN), (or, CC), (about, IN), (1/2/15, CD)...\n",
       "12       [(An, DT), (employee, NN), (stumbled, VBD), (a...\n",
       "13       [(Two, CD), (employees, NNS), (in, IN), (a, DT...\n",
       "14       [(Employee, NNP), (amputated, VBD), (tip, NN),...\n",
       "15       [(An, DT), (employee, NN), (suffered, VBD), (a...\n",
       "16       [(An, DT), (employee, NN), (was, VBD), (injure...\n",
       "17       [(Employee, NN), (suffered, VBD), (the, DT), (...\n",
       "18       [(An, DT), (employee, NN), (who, WP), (was, VB...\n",
       "19       [(On, IN), (Friday, NNP), (,, ,), (January, NN...\n",
       "20       [(The, DT), (employee, NN), (was, VBD), (comin...\n",
       "21       [(Employee, NNP), (tripped, VBD), (on, IN), (a...\n",
       "22       [(Employees, NNS), (use, VBP), (a, DT), (draw,...\n",
       "23       [(While, IN), (in, IN), (the, DT), (process, N...\n",
       "24       [(Employee, NN), (lost, VBD), (his, PRP$), (na...\n",
       "25       [(An, DT), (employee, NN), (suffered, VBD), (a...\n",
       "26       [(Employee, NNP), (was, VBD), (installing, VBG...\n",
       "27       [(Worker, NNP), (caught, VBD), (a, DT), (hand,...\n",
       "28       [(An, DT), (employee, NN), (was, VBD), (hospit...\n",
       "29       [(An, DT), (employee, NN), (was, VBD), (assaul...\n",
       "                               ...                        \n",
       "54988    [(An, DT), (employee, NN), (was, VBD), (moving...\n",
       "54989    [(An, DT), (employee, NN), (was, VBD), (in, IN...\n",
       "54990    [(An, DT), (employee, NN), (fell, VBD), (off, ...\n",
       "54991    [(An, DT), (employee, NN), (fell, VBD), (from,...\n",
       "54992    [(A, DT), (postal, JJ), (carrier, NN), (was, V...\n",
       "54993    [(On, IN), (March, NNP), (31, CD), (,, ,), (20...\n",
       "54994    [(An, DT), (employee, NN), (was, VBD), (moving...\n",
       "54995    [(An, DT), (employee, NN), (was, VBD), (loosen...\n",
       "54996    [(An, DT), (employee, NN), (was, VBD), (settin...\n",
       "54997    [(An, DT), (employee, NN), (was, VBD), (moving...\n",
       "54998    [(On, IN), (March, NNP), (31, CD), (,, ,), (20...\n",
       "54999    [(An, DT), (employee, NN), (was, VBD), (cleani...\n",
       "55000    [(An, DT), (employee, NN), (was, VBD), (using,...\n",
       "55001    [(An, DT), (employee, NN), (was, VBD), (attemp...\n",
       "55002    [(An, DT), (employee, NN), (was, VBD), (drivin...\n",
       "55003    [(An, DT), (employee, NN), (was, VBD), (retrie...\n",
       "55004    [(An, DT), (employee, NN), (was, VBD), (standi...\n",
       "55005    [(An, DT), (employee, NN), (was, VBD), (servic...\n",
       "55006    [(On, IN), (March, NNP), (31, CD), (,, ,), (20...\n",
       "55007    [(An, DT), (employee, NN), (was, VBD), (changi...\n",
       "55008    [(An, DT), (employee, NN), (climbed, VBD), (a,...\n",
       "55009    [(An, DT), (employee, NN), (was, VBD), (splitt...\n",
       "55010    [(An, DT), (employee, NN), (was, VBD), (standi...\n",
       "55011    [(Two, CD), (electricians/journeyman, JJ), (me...\n",
       "55012    [(An, DT), (employee, NN), (was, VBD), (replac...\n",
       "55013    [(An, DT), (employee, NN), (was, VBD), (trying...\n",
       "55014    [(While, IN), (replacing, VBG), (electric, JJ)...\n",
       "55015    [(A, DT), (forklift, NN), (driver, NN), (was, ...\n",
       "55016    [(An, DT), (employee, NN), (was, VBD), (repair...\n",
       "55017    [(An, DT), (employee, NN), (was, VBD), (notchi...\n",
       "Name: pos, Length: 55018, dtype: object"
      ]
     },
     "execution_count": 104,
     "metadata": {},
     "output_type": "execute_result"
    }
   ],
   "source": [
    "df['pos']"
   ]
  },
  {
   "cell_type": "code",
   "execution_count": 117,
   "metadata": {},
   "outputs": [],
   "source": [
    "sentence = df['pos'].head(1)"
   ]
  },
  {
   "cell_type": "code",
   "execution_count": 118,
   "metadata": {},
   "outputs": [
    {
     "name": "stdout",
     "output_type": "stream",
     "text": [
      "                                                 pos\n",
      "1  [(Employee, NN), (in, IN), (the, DT), (Machine...\n"
     ]
    }
   ],
   "source": [
    "print(df.iloc[[1]])"
   ]
  },
  {
   "cell_type": "code",
   "execution_count": null,
   "metadata": {},
   "outputs": [],
   "source": []
  }
 ],
 "metadata": {
  "kernelspec": {
   "display_name": "Python 2",
   "language": "python",
   "name": "python2"
  },
  "language_info": {
   "codemirror_mode": {
    "name": "ipython",
    "version": 2
   },
   "file_extension": ".py",
   "mimetype": "text/x-python",
   "name": "python",
   "nbconvert_exporter": "python",
   "pygments_lexer": "ipython2",
   "version": "2.7.16"
  }
 },
 "nbformat": 4,
 "nbformat_minor": 2
}
